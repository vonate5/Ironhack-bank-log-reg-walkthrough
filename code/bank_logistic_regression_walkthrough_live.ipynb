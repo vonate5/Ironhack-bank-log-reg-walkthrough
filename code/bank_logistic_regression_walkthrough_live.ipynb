{
 "cells": [
  {
   "cell_type": "markdown",
   "id": "1adcfac5",
   "metadata": {},
   "source": [
    "# Classification with Log Regression "
   ]
  },
  {
   "cell_type": "markdown",
   "id": "331760ab",
   "metadata": {},
   "source": [
    "- we will attempt to predict the loan status using database bank\n",
    "- model: logistic regression, binary classification\n",
    "- some EDA + cleaning\n",
    "- expectations of low accuracy"
   ]
  },
  {
   "cell_type": "markdown",
   "id": "878d49c1",
   "metadata": {},
   "source": [
    "## Assemble the tools "
   ]
  },
  {
   "cell_type": "code",
   "execution_count": 1,
   "id": "64252236",
   "metadata": {},
   "outputs": [
    {
     "name": "stdout",
     "output_type": "stream",
     "text": [
      "········\n"
     ]
    }
   ],
   "source": [
    "import pymysql\n",
    "from sqlalchemy import create_engine\n",
    "import pandas as pd\n",
    "import getpass\n",
    "password = getpass.getpass()"
   ]
  },
  {
   "cell_type": "markdown",
   "id": "e41ca09f",
   "metadata": {},
   "source": [
    "# Run SQL query into DataFrame"
   ]
  },
  {
   "cell_type": "code",
   "execution_count": 2,
   "id": "4a183cf3",
   "metadata": {},
   "outputs": [],
   "source": [
    "connection_string = \"mysql+pymysql://root:\" + password + '@localhost/bank'\n",
    "engine = create_engine(connection_string)\n",
    "\n",
    "query = \"\"\"\n",
    "SELECT \n",
    "    t.type,\n",
    "    t.operation,\n",
    "    t.amount AS t_amount,\n",
    "    t.balance,\n",
    "    t.k_symbol,\n",
    "    l.amount AS l_amount,\n",
    "    l.duration,\n",
    "    l.payments,\n",
    "    l.status\n",
    "FROM\n",
    "    trans t\n",
    "        LEFT JOIN\n",
    "    loan l ON t.account_id = l.account_id;\n",
    "\"\"\""
   ]
  },
  {
   "cell_type": "markdown",
   "id": "88d5739f",
   "metadata": {},
   "source": [
    "## Introduction of the data "
   ]
  },
  {
   "cell_type": "code",
   "execution_count": 3,
   "id": "c2514626",
   "metadata": {},
   "outputs": [],
   "source": [
    "data = pd.read_sql_query(query, engine)"
   ]
  },
  {
   "cell_type": "code",
   "execution_count": 4,
   "id": "be2d07aa",
   "metadata": {},
   "outputs": [
    {
     "data": {
      "text/html": [
       "<div>\n",
       "<style scoped>\n",
       "    .dataframe tbody tr th:only-of-type {\n",
       "        vertical-align: middle;\n",
       "    }\n",
       "\n",
       "    .dataframe tbody tr th {\n",
       "        vertical-align: top;\n",
       "    }\n",
       "\n",
       "    .dataframe thead th {\n",
       "        text-align: right;\n",
       "    }\n",
       "</style>\n",
       "<table border=\"1\" class=\"dataframe\">\n",
       "  <thead>\n",
       "    <tr style=\"text-align: right;\">\n",
       "      <th></th>\n",
       "      <th>type</th>\n",
       "      <th>operation</th>\n",
       "      <th>t_amount</th>\n",
       "      <th>balance</th>\n",
       "      <th>k_symbol</th>\n",
       "      <th>l_amount</th>\n",
       "      <th>duration</th>\n",
       "      <th>payments</th>\n",
       "      <th>status</th>\n",
       "    </tr>\n",
       "  </thead>\n",
       "  <tbody>\n",
       "    <tr>\n",
       "      <th>0</th>\n",
       "      <td>PRIJEM</td>\n",
       "      <td>VKLAD</td>\n",
       "      <td>700.0</td>\n",
       "      <td>700.0</td>\n",
       "      <td></td>\n",
       "      <td>NaN</td>\n",
       "      <td>NaN</td>\n",
       "      <td>NaN</td>\n",
       "      <td>None</td>\n",
       "    </tr>\n",
       "    <tr>\n",
       "      <th>1</th>\n",
       "      <td>PRIJEM</td>\n",
       "      <td>VKLAD</td>\n",
       "      <td>900.0</td>\n",
       "      <td>900.0</td>\n",
       "      <td></td>\n",
       "      <td>NaN</td>\n",
       "      <td>NaN</td>\n",
       "      <td>NaN</td>\n",
       "      <td>None</td>\n",
       "    </tr>\n",
       "    <tr>\n",
       "      <th>2</th>\n",
       "      <td>PRIJEM</td>\n",
       "      <td>VKLAD</td>\n",
       "      <td>1000.0</td>\n",
       "      <td>1000.0</td>\n",
       "      <td></td>\n",
       "      <td>NaN</td>\n",
       "      <td>NaN</td>\n",
       "      <td>NaN</td>\n",
       "      <td>None</td>\n",
       "    </tr>\n",
       "    <tr>\n",
       "      <th>3</th>\n",
       "      <td>PRIJEM</td>\n",
       "      <td>VKLAD</td>\n",
       "      <td>600.0</td>\n",
       "      <td>600.0</td>\n",
       "      <td></td>\n",
       "      <td>NaN</td>\n",
       "      <td>NaN</td>\n",
       "      <td>NaN</td>\n",
       "      <td>None</td>\n",
       "    </tr>\n",
       "    <tr>\n",
       "      <th>4</th>\n",
       "      <td>PRIJEM</td>\n",
       "      <td>VKLAD</td>\n",
       "      <td>400.0</td>\n",
       "      <td>400.0</td>\n",
       "      <td></td>\n",
       "      <td>NaN</td>\n",
       "      <td>NaN</td>\n",
       "      <td>NaN</td>\n",
       "      <td>None</td>\n",
       "    </tr>\n",
       "  </tbody>\n",
       "</table>\n",
       "</div>"
      ],
      "text/plain": [
       "     type operation  t_amount  balance k_symbol  l_amount  duration  payments  \\\n",
       "0  PRIJEM     VKLAD     700.0    700.0                NaN       NaN       NaN   \n",
       "1  PRIJEM     VKLAD     900.0    900.0                NaN       NaN       NaN   \n",
       "2  PRIJEM     VKLAD    1000.0   1000.0                NaN       NaN       NaN   \n",
       "3  PRIJEM     VKLAD     600.0    600.0                NaN       NaN       NaN   \n",
       "4  PRIJEM     VKLAD     400.0    400.0                NaN       NaN       NaN   \n",
       "\n",
       "  status  \n",
       "0   None  \n",
       "1   None  \n",
       "2   None  \n",
       "3   None  \n",
       "4   None  "
      ]
     },
     "execution_count": 4,
     "metadata": {},
     "output_type": "execute_result"
    }
   ],
   "source": [
    "data.head()"
   ]
  },
  {
   "cell_type": "markdown",
   "id": "1a2e9164",
   "metadata": {},
   "source": [
    "## EDA and data cleaning\n",
    "- remove nulls\n",
    "- simplify categories\n",
    "- look for outliers\n",
    "- check for multicollinearity and drop correlated columns (?)"
   ]
  },
  {
   "cell_type": "code",
   "execution_count": 5,
   "id": "b88427ce",
   "metadata": {},
   "outputs": [
    {
     "data": {
      "text/plain": [
       "type              0\n",
       "operation         0\n",
       "t_amount          0\n",
       "balance           0\n",
       "k_symbol          0\n",
       "l_amount     711938\n",
       "duration     711938\n",
       "payments     711938\n",
       "status       711938\n",
       "dtype: int64"
      ]
     },
     "execution_count": 5,
     "metadata": {},
     "output_type": "execute_result"
    }
   ],
   "source": [
    "data.isna().sum()"
   ]
  },
  {
   "cell_type": "code",
   "execution_count": 6,
   "id": "7b67d4f7",
   "metadata": {},
   "outputs": [
    {
     "data": {
      "text/plain": [
       "868019"
      ]
     },
     "execution_count": 6,
     "metadata": {},
     "output_type": "execute_result"
    }
   ],
   "source": [
    "len(data)"
   ]
  },
  {
   "cell_type": "code",
   "execution_count": 7,
   "id": "2231e39f",
   "metadata": {},
   "outputs": [],
   "source": [
    "# filter all the NaN\n",
    "data = data[~data['duration'].isna()]"
   ]
  },
  {
   "cell_type": "code",
   "execution_count": 8,
   "id": "d1e6b640",
   "metadata": {},
   "outputs": [
    {
     "data": {
      "text/plain": [
       "type         0\n",
       "operation    0\n",
       "t_amount     0\n",
       "balance      0\n",
       "k_symbol     0\n",
       "l_amount     0\n",
       "duration     0\n",
       "payments     0\n",
       "status       0\n",
       "dtype: int64"
      ]
     },
     "execution_count": 8,
     "metadata": {},
     "output_type": "execute_result"
    }
   ],
   "source": [
    "data.isna().sum()"
   ]
  },
  {
   "cell_type": "code",
   "execution_count": 9,
   "id": "93792c82",
   "metadata": {},
   "outputs": [
    {
     "name": "stdout",
     "output_type": "stream",
     "text": [
      "<class 'pandas.core.frame.DataFrame'>\n",
      "Int64Index: 156081 entries, 62 to 868011\n",
      "Data columns (total 9 columns):\n",
      " #   Column     Non-Null Count   Dtype  \n",
      "---  ------     --------------   -----  \n",
      " 0   type       156081 non-null  object \n",
      " 1   operation  156081 non-null  object \n",
      " 2   t_amount   156081 non-null  float64\n",
      " 3   balance    156081 non-null  float64\n",
      " 4   k_symbol   156081 non-null  object \n",
      " 5   l_amount   156081 non-null  float64\n",
      " 6   duration   156081 non-null  float64\n",
      " 7   payments   156081 non-null  float64\n",
      " 8   status     156081 non-null  object \n",
      "dtypes: float64(5), object(4)\n",
      "memory usage: 11.9+ MB\n"
     ]
    }
   ],
   "source": [
    "data.info()"
   ]
  },
  {
   "cell_type": "code",
   "execution_count": 10,
   "id": "484d5644",
   "metadata": {},
   "outputs": [],
   "source": [
    "# turning duration into categorical, becaus it comes in values of whole years (1,2,3,4,5)\n",
    "data['duration'] = data['duration'].astype('object')"
   ]
  },
  {
   "cell_type": "markdown",
   "id": "2e750b3a",
   "metadata": {},
   "source": [
    "## Cleaning categoricals"
   ]
  },
  {
   "cell_type": "code",
   "execution_count": 11,
   "id": "db43fe72",
   "metadata": {},
   "outputs": [
    {
     "data": {
      "text/plain": [
       "VYBER             70189\n",
       "                  31337\n",
       "PREVOD NA UCET    25796\n",
       "VKLAD             22633\n",
       "PREVOD Z UCTU      5336\n",
       "VYBER KARTOU        790\n",
       "Name: operation, dtype: int64"
      ]
     },
     "execution_count": 11,
     "metadata": {},
     "output_type": "execute_result"
    }
   ],
   "source": [
    "data['operation'].value_counts()"
   ]
  },
  {
   "cell_type": "code",
   "execution_count": 12,
   "id": "9a947bf5",
   "metadata": {},
   "outputs": [],
   "source": [
    "def clean_operation(x):\n",
    "    x = x.lower()\n",
    "    if 'vyber' in x:\n",
    "        return 'vyber'\n",
    "    elif 'prevod' in x:\n",
    "        return 'prevod'\n",
    "    elif 'vklad' in x:\n",
    "        return 'vklad'\n",
    "    else:\n",
    "        return 'unknown'"
   ]
  },
  {
   "cell_type": "code",
   "execution_count": 13,
   "id": "09ccd68d",
   "metadata": {},
   "outputs": [],
   "source": [
    "data['operation'] = data['operation'].apply(clean_operation)"
   ]
  },
  {
   "cell_type": "code",
   "execution_count": 14,
   "id": "3d8bc47b",
   "metadata": {},
   "outputs": [
    {
     "data": {
      "text/plain": [
       "Index(['', 'UROK', 'SLUZBY', 'SIPO', 'UVER', ' ', 'POJISTNE', 'SANKC. UROK'], dtype='object')"
      ]
     },
     "execution_count": 14,
     "metadata": {},
     "output_type": "execute_result"
    }
   ],
   "source": [
    "data['k_symbol'].value_counts().index"
   ]
  },
  {
   "cell_type": "code",
   "execution_count": 15,
   "id": "1bc8f2e7",
   "metadata": {},
   "outputs": [],
   "source": [
    "def clean_ksymbol(x):\n",
    "    if x in ['', ' ']:\n",
    "        return 'unknown'\n",
    "    else:\n",
    "        return x"
   ]
  },
  {
   "cell_type": "code",
   "execution_count": 16,
   "id": "474443a2",
   "metadata": {},
   "outputs": [],
   "source": [
    "data['k_symbol'] = data['k_symbol'].apply(clean_ksymbol)"
   ]
  },
  {
   "cell_type": "code",
   "execution_count": 17,
   "id": "7b01c815",
   "metadata": {},
   "outputs": [
    {
     "data": {
      "text/plain": [
       "unknown        79925\n",
       "UROK           31337\n",
       "SLUZBY         23592\n",
       "SIPO           10482\n",
       "UVER            7744\n",
       "POJISTNE        2412\n",
       "SANKC. UROK      589\n",
       "Name: k_symbol, dtype: int64"
      ]
     },
     "execution_count": 17,
     "metadata": {},
     "output_type": "execute_result"
    }
   ],
   "source": [
    "data['k_symbol'].value_counts()"
   ]
  },
  {
   "cell_type": "code",
   "execution_count": 18,
   "id": "820d1a97",
   "metadata": {},
   "outputs": [],
   "source": [
    "# filter data so that k_symbol is cleaned of 'POJISTINE', 'SANKC. UROK' or 'UVER'\n",
    "data = data[~data['k_symbol'].isin(['POJISTINE', 'SANKC. UROK', 'UVER'])]"
   ]
  },
  {
   "cell_type": "code",
   "execution_count": 19,
   "id": "cf9f05c7",
   "metadata": {},
   "outputs": [],
   "source": [
    "# reset index\n",
    "\n",
    "data.reset_index(drop=True, inplace=True)"
   ]
  },
  {
   "cell_type": "code",
   "execution_count": 20,
   "id": "120eb60c",
   "metadata": {},
   "outputs": [],
   "source": [
    "def clean_type(x):\n",
    "    if 'PRI' in x:\n",
    "        return 'PRIJEM'\n",
    "    else:\n",
    "        return x\n",
    "    \n",
    "data['type'] = data['type'].apply(clean_type)"
   ]
  },
  {
   "cell_type": "code",
   "execution_count": 21,
   "id": "82260beb",
   "metadata": {},
   "outputs": [
    {
     "data": {
      "text/plain": [
       "VYDAJ     83095\n",
       "PRIJEM    59306\n",
       "VYBER      5347\n",
       "Name: type, dtype: int64"
      ]
     },
     "execution_count": 21,
     "metadata": {},
     "output_type": "execute_result"
    }
   ],
   "source": [
    "data['type'].value_counts()"
   ]
  },
  {
   "cell_type": "markdown",
   "id": "04a31712",
   "metadata": {},
   "source": [
    "## Check correlations for numerical columns"
   ]
  },
  {
   "cell_type": "code",
   "execution_count": 22,
   "id": "b89cded1",
   "metadata": {},
   "outputs": [],
   "source": [
    "import matplotlib.pyplot as plt\n",
    "import seaborn as sns"
   ]
  },
  {
   "cell_type": "code",
   "execution_count": 23,
   "id": "dd5c6b1e",
   "metadata": {},
   "outputs": [],
   "source": [
    "corr_matrix = data.corr()"
   ]
  },
  {
   "cell_type": "code",
   "execution_count": 24,
   "id": "ab69ffe3",
   "metadata": {},
   "outputs": [
    {
     "data": {
      "image/png": "[encoded data removed]",
      "text/plain": [
       "<Figure size 720x576 with 2 Axes>"
      ]
     },
     "metadata": {
      "needs_background": "light"
     },
     "output_type": "display_data"
    }
   ],
   "source": [
    "fig, ax = plt.subplots(figsize=(10,8))\n",
    "sns.heatmap(corr_matrix,\n",
    "           cmap='seismic',\n",
    "           center=0,\n",
    "           annot=True,\n",
    "           );"
   ]
  },
  {
   "cell_type": "markdown",
   "id": "5502c30f",
   "metadata": {},
   "source": [
    "Note\n",
    "* some high correlations between my features: Come back after first model validation and maybe drop highly correlated features"
   ]
  },
  {
   "cell_type": "code",
   "execution_count": 25,
   "id": "47024abd",
   "metadata": {},
   "outputs": [
    {
     "data": {
      "text/plain": [
       "<seaborn.axisgrid.FacetGrid at 0x7f97bc377af0>"
      ]
     },
     "execution_count": 25,
     "metadata": {},
     "output_type": "execute_result"
    },
    {
     "data": {
      "image/png": "[encoded data removed]",
      "text/plain": [
       "<Figure size 360x360 with 1 Axes>"
      ]
     },
     "metadata": {
      "needs_background": "light"
     },
     "output_type": "display_data"
    }
   ],
   "source": [
    "sns.displot(data['t_amount'])"
   ]
  },
  {
   "cell_type": "code",
   "execution_count": 26,
   "id": "85cf0e9f",
   "metadata": {},
   "outputs": [
    {
     "data": {
      "text/plain": [
       "count    147748.000000\n",
       "mean       8022.366812\n",
       "std       11980.002505\n",
       "min           0.000000\n",
       "25%         134.800000\n",
       "50%        2700.000000\n",
       "75%       10721.000000\n",
       "max       87300.000000\n",
       "Name: t_amount, dtype: float64"
      ]
     },
     "execution_count": 26,
     "metadata": {},
     "output_type": "execute_result"
    }
   ],
   "source": [
    "data['t_amount'].describe()"
   ]
  },
  {
   "cell_type": "code",
   "execution_count": 27,
   "id": "bb78d202",
   "metadata": {},
   "outputs": [
    {
     "data": {
      "text/plain": [
       "<seaborn.axisgrid.FacetGrid at 0x7f97bad09b20>"
      ]
     },
     "execution_count": 27,
     "metadata": {},
     "output_type": "execute_result"
    },
    {
     "data": {
      "image/png": "[encoded data removed]",
      "text/plain": [
       "<Figure size 360x360 with 1 Axes>"
      ]
     },
     "metadata": {
      "needs_background": "light"
     },
     "output_type": "display_data"
    }
   ],
   "source": [
    "#fig, ax = plt.subplots(figsize=(12,8))\n",
    "sns.displot(data['l_amount'])"
   ]
  },
  {
   "cell_type": "code",
   "execution_count": 28,
   "id": "ed8dfb3d",
   "metadata": {},
   "outputs": [
    {
     "data": {
      "text/plain": [
       "count    147748.000000\n",
       "mean     145810.456913\n",
       "std      109587.181764\n",
       "min        4980.000000\n",
       "25%       64860.000000\n",
       "50%      110736.000000\n",
       "75%      200976.000000\n",
       "max      590820.000000\n",
       "Name: l_amount, dtype: float64"
      ]
     },
     "execution_count": 28,
     "metadata": {},
     "output_type": "execute_result"
    }
   ],
   "source": [
    "data['l_amount'].describe()"
   ]
  },
  {
   "cell_type": "markdown",
   "id": "d964be88",
   "metadata": {},
   "source": [
    "### Split data into num and cat for pre processing "
   ]
  },
  {
   "cell_type": "code",
   "execution_count": 29,
   "id": "d8713315",
   "metadata": {},
   "outputs": [],
   "source": [
    "import numpy as np\n",
    "from sklearn.preprocessing import Normalizer\n",
    "\n",
    "X = data.select_dtypes(include = np.number)"
   ]
  },
  {
   "cell_type": "code",
   "execution_count": 30,
   "id": "743eb166",
   "metadata": {},
   "outputs": [
    {
     "data": {
      "text/html": [
       "<div>\n",
       "<style scoped>\n",
       "    .dataframe tbody tr th:only-of-type {\n",
       "        vertical-align: middle;\n",
       "    }\n",
       "\n",
       "    .dataframe tbody tr th {\n",
       "        vertical-align: top;\n",
       "    }\n",
       "\n",
       "    .dataframe thead th {\n",
       "        text-align: right;\n",
       "    }\n",
       "</style>\n",
       "<table border=\"1\" class=\"dataframe\">\n",
       "  <thead>\n",
       "    <tr style=\"text-align: right;\">\n",
       "      <th></th>\n",
       "      <th>t_amount</th>\n",
       "      <th>balance</th>\n",
       "      <th>l_amount</th>\n",
       "      <th>payments</th>\n",
       "    </tr>\n",
       "  </thead>\n",
       "  <tbody>\n",
       "    <tr>\n",
       "      <th>0</th>\n",
       "      <td>44749.0</td>\n",
       "      <td>45549.0</td>\n",
       "      <td>79608.0</td>\n",
       "      <td>3317.0</td>\n",
       "    </tr>\n",
       "    <tr>\n",
       "      <th>1</th>\n",
       "      <td>1000.0</td>\n",
       "      <td>1000.0</td>\n",
       "      <td>52788.0</td>\n",
       "      <td>4399.0</td>\n",
       "    </tr>\n",
       "    <tr>\n",
       "      <th>2</th>\n",
       "      <td>1100.0</td>\n",
       "      <td>1100.0</td>\n",
       "      <td>21924.0</td>\n",
       "      <td>609.0</td>\n",
       "    </tr>\n",
       "    <tr>\n",
       "      <th>3</th>\n",
       "      <td>700.0</td>\n",
       "      <td>700.0</td>\n",
       "      <td>23052.0</td>\n",
       "      <td>1921.0</td>\n",
       "    </tr>\n",
       "    <tr>\n",
       "      <th>4</th>\n",
       "      <td>900.0</td>\n",
       "      <td>900.0</td>\n",
       "      <td>41904.0</td>\n",
       "      <td>3492.0</td>\n",
       "    </tr>\n",
       "  </tbody>\n",
       "</table>\n",
       "</div>"
      ],
      "text/plain": [
       "   t_amount  balance  l_amount  payments\n",
       "0   44749.0  45549.0   79608.0    3317.0\n",
       "1    1000.0   1000.0   52788.0    4399.0\n",
       "2    1100.0   1100.0   21924.0     609.0\n",
       "3     700.0    700.0   23052.0    1921.0\n",
       "4     900.0    900.0   41904.0    3492.0"
      ]
     },
     "execution_count": 30,
     "metadata": {},
     "output_type": "execute_result"
    }
   ],
   "source": [
    "X.head()"
   ]
  },
  {
   "cell_type": "code",
   "execution_count": 31,
   "id": "4930ed7a",
   "metadata": {},
   "outputs": [],
   "source": [
    "transformer = Normalizer()\n",
    "transformer.fit(X)\n",
    "x_normalized = transformer.transform(X)"
   ]
  },
  {
   "cell_type": "code",
   "execution_count": 32,
   "id": "5e5ef741",
   "metadata": {},
   "outputs": [],
   "source": [
    "x = pd.DataFrame(x_normalized, columns=X.columns)"
   ]
  },
  {
   "cell_type": "code",
   "execution_count": 33,
   "id": "ec6cce69",
   "metadata": {},
   "outputs": [
    {
     "data": {
      "text/html": [
       "<div>\n",
       "<style scoped>\n",
       "    .dataframe tbody tr th:only-of-type {\n",
       "        vertical-align: middle;\n",
       "    }\n",
       "\n",
       "    .dataframe tbody tr th {\n",
       "        vertical-align: top;\n",
       "    }\n",
       "\n",
       "    .dataframe thead th {\n",
       "        text-align: right;\n",
       "    }\n",
       "</style>\n",
       "<table border=\"1\" class=\"dataframe\">\n",
       "  <thead>\n",
       "    <tr style=\"text-align: right;\">\n",
       "      <th></th>\n",
       "      <th>t_amount</th>\n",
       "      <th>balance</th>\n",
       "      <th>l_amount</th>\n",
       "      <th>payments</th>\n",
       "    </tr>\n",
       "  </thead>\n",
       "  <tbody>\n",
       "    <tr>\n",
       "      <th>0</th>\n",
       "      <td>0.438261</td>\n",
       "      <td>0.446096</td>\n",
       "      <td>0.779661</td>\n",
       "      <td>0.032486</td>\n",
       "    </tr>\n",
       "    <tr>\n",
       "      <th>1</th>\n",
       "      <td>0.018872</td>\n",
       "      <td>0.018872</td>\n",
       "      <td>0.996191</td>\n",
       "      <td>0.083016</td>\n",
       "    </tr>\n",
       "    <tr>\n",
       "      <th>2</th>\n",
       "      <td>0.050028</td>\n",
       "      <td>0.050028</td>\n",
       "      <td>0.997109</td>\n",
       "      <td>0.027697</td>\n",
       "    </tr>\n",
       "    <tr>\n",
       "      <th>3</th>\n",
       "      <td>0.030234</td>\n",
       "      <td>0.030234</td>\n",
       "      <td>0.995634</td>\n",
       "      <td>0.082970</td>\n",
       "    </tr>\n",
       "    <tr>\n",
       "      <th>4</th>\n",
       "      <td>0.021394</td>\n",
       "      <td>0.021394</td>\n",
       "      <td>0.996090</td>\n",
       "      <td>0.083007</td>\n",
       "    </tr>\n",
       "    <tr>\n",
       "      <th>...</th>\n",
       "      <td>...</td>\n",
       "      <td>...</td>\n",
       "      <td>...</td>\n",
       "      <td>...</td>\n",
       "    </tr>\n",
       "    <tr>\n",
       "      <th>147743</th>\n",
       "      <td>0.000253</td>\n",
       "      <td>0.063358</td>\n",
       "      <td>0.997852</td>\n",
       "      <td>0.016631</td>\n",
       "    </tr>\n",
       "    <tr>\n",
       "      <th>147744</th>\n",
       "      <td>0.000426</td>\n",
       "      <td>0.096119</td>\n",
       "      <td>0.995232</td>\n",
       "      <td>0.016587</td>\n",
       "    </tr>\n",
       "    <tr>\n",
       "      <th>147745</th>\n",
       "      <td>0.000481</td>\n",
       "      <td>0.113176</td>\n",
       "      <td>0.993437</td>\n",
       "      <td>0.016557</td>\n",
       "    </tr>\n",
       "    <tr>\n",
       "      <th>147746</th>\n",
       "      <td>0.000706</td>\n",
       "      <td>0.152565</td>\n",
       "      <td>0.988156</td>\n",
       "      <td>0.016469</td>\n",
       "    </tr>\n",
       "    <tr>\n",
       "      <th>147747</th>\n",
       "      <td>0.000377</td>\n",
       "      <td>0.089420</td>\n",
       "      <td>0.995856</td>\n",
       "      <td>0.016598</td>\n",
       "    </tr>\n",
       "  </tbody>\n",
       "</table>\n",
       "<p>147748 rows × 4 columns</p>\n",
       "</div>"
      ],
      "text/plain": [
       "        t_amount   balance  l_amount  payments\n",
       "0       0.438261  0.446096  0.779661  0.032486\n",
       "1       0.018872  0.018872  0.996191  0.083016\n",
       "2       0.050028  0.050028  0.997109  0.027697\n",
       "3       0.030234  0.030234  0.995634  0.082970\n",
       "4       0.021394  0.021394  0.996090  0.083007\n",
       "...          ...       ...       ...       ...\n",
       "147743  0.000253  0.063358  0.997852  0.016631\n",
       "147744  0.000426  0.096119  0.995232  0.016587\n",
       "147745  0.000481  0.113176  0.993437  0.016557\n",
       "147746  0.000706  0.152565  0.988156  0.016469\n",
       "147747  0.000377  0.089420  0.995856  0.016598\n",
       "\n",
       "[147748 rows x 4 columns]"
      ]
     },
     "execution_count": 33,
     "metadata": {},
     "output_type": "execute_result"
    }
   ],
   "source": [
    "x"
   ]
  },
  {
   "cell_type": "code",
   "execution_count": 34,
   "id": "48e91564",
   "metadata": {},
   "outputs": [
    {
     "data": {
      "text/plain": [
       "24.0    32595\n",
       "12.0    31278\n",
       "60.0    29797\n",
       "48.0    27330\n",
       "36.0    26748\n",
       "Name: duration, dtype: int64"
      ]
     },
     "execution_count": 34,
     "metadata": {},
     "output_type": "execute_result"
    }
   ],
   "source": [
    "data['duration'].value_counts()"
   ]
  },
  {
   "cell_type": "code",
   "execution_count": 35,
   "id": "73d5d937",
   "metadata": {},
   "outputs": [
    {
     "data": {
      "text/html": [
       "<div>\n",
       "<style scoped>\n",
       "    .dataframe tbody tr th:only-of-type {\n",
       "        vertical-align: middle;\n",
       "    }\n",
       "\n",
       "    .dataframe tbody tr th {\n",
       "        vertical-align: top;\n",
       "    }\n",
       "\n",
       "    .dataframe thead th {\n",
       "        text-align: right;\n",
       "    }\n",
       "</style>\n",
       "<table border=\"1\" class=\"dataframe\">\n",
       "  <thead>\n",
       "    <tr style=\"text-align: right;\">\n",
       "      <th></th>\n",
       "      <th>t_amount</th>\n",
       "      <th>balance</th>\n",
       "      <th>l_amount</th>\n",
       "      <th>payments</th>\n",
       "    </tr>\n",
       "  </thead>\n",
       "  <tbody>\n",
       "    <tr>\n",
       "      <th>0</th>\n",
       "      <td>0.438261</td>\n",
       "      <td>0.446096</td>\n",
       "      <td>0.779661</td>\n",
       "      <td>0.032486</td>\n",
       "    </tr>\n",
       "    <tr>\n",
       "      <th>1</th>\n",
       "      <td>0.018872</td>\n",
       "      <td>0.018872</td>\n",
       "      <td>0.996191</td>\n",
       "      <td>0.083016</td>\n",
       "    </tr>\n",
       "    <tr>\n",
       "      <th>2</th>\n",
       "      <td>0.050028</td>\n",
       "      <td>0.050028</td>\n",
       "      <td>0.997109</td>\n",
       "      <td>0.027697</td>\n",
       "    </tr>\n",
       "    <tr>\n",
       "      <th>3</th>\n",
       "      <td>0.030234</td>\n",
       "      <td>0.030234</td>\n",
       "      <td>0.995634</td>\n",
       "      <td>0.082970</td>\n",
       "    </tr>\n",
       "    <tr>\n",
       "      <th>4</th>\n",
       "      <td>0.021394</td>\n",
       "      <td>0.021394</td>\n",
       "      <td>0.996090</td>\n",
       "      <td>0.083007</td>\n",
       "    </tr>\n",
       "    <tr>\n",
       "      <th>...</th>\n",
       "      <td>...</td>\n",
       "      <td>...</td>\n",
       "      <td>...</td>\n",
       "      <td>...</td>\n",
       "    </tr>\n",
       "    <tr>\n",
       "      <th>147743</th>\n",
       "      <td>0.000253</td>\n",
       "      <td>0.063358</td>\n",
       "      <td>0.997852</td>\n",
       "      <td>0.016631</td>\n",
       "    </tr>\n",
       "    <tr>\n",
       "      <th>147744</th>\n",
       "      <td>0.000426</td>\n",
       "      <td>0.096119</td>\n",
       "      <td>0.995232</td>\n",
       "      <td>0.016587</td>\n",
       "    </tr>\n",
       "    <tr>\n",
       "      <th>147745</th>\n",
       "      <td>0.000481</td>\n",
       "      <td>0.113176</td>\n",
       "      <td>0.993437</td>\n",
       "      <td>0.016557</td>\n",
       "    </tr>\n",
       "    <tr>\n",
       "      <th>147746</th>\n",
       "      <td>0.000706</td>\n",
       "      <td>0.152565</td>\n",
       "      <td>0.988156</td>\n",
       "      <td>0.016469</td>\n",
       "    </tr>\n",
       "    <tr>\n",
       "      <th>147747</th>\n",
       "      <td>0.000377</td>\n",
       "      <td>0.089420</td>\n",
       "      <td>0.995856</td>\n",
       "      <td>0.016598</td>\n",
       "    </tr>\n",
       "  </tbody>\n",
       "</table>\n",
       "<p>147748 rows × 4 columns</p>\n",
       "</div>"
      ],
      "text/plain": [
       "        t_amount   balance  l_amount  payments\n",
       "0       0.438261  0.446096  0.779661  0.032486\n",
       "1       0.018872  0.018872  0.996191  0.083016\n",
       "2       0.050028  0.050028  0.997109  0.027697\n",
       "3       0.030234  0.030234  0.995634  0.082970\n",
       "4       0.021394  0.021394  0.996090  0.083007\n",
       "...          ...       ...       ...       ...\n",
       "147743  0.000253  0.063358  0.997852  0.016631\n",
       "147744  0.000426  0.096119  0.995232  0.016587\n",
       "147745  0.000481  0.113176  0.993437  0.016557\n",
       "147746  0.000706  0.152565  0.988156  0.016469\n",
       "147747  0.000377  0.089420  0.995856  0.016598\n",
       "\n",
       "[147748 rows x 4 columns]"
      ]
     },
     "execution_count": 35,
     "metadata": {},
     "output_type": "execute_result"
    }
   ],
   "source": [
    "x"
   ]
  },
  {
   "cell_type": "code",
   "execution_count": 36,
   "id": "9d1aff9c",
   "metadata": {},
   "outputs": [
    {
     "data": {
      "text/html": [
       "<div>\n",
       "<style scoped>\n",
       "    .dataframe tbody tr th:only-of-type {\n",
       "        vertical-align: middle;\n",
       "    }\n",
       "\n",
       "    .dataframe tbody tr th {\n",
       "        vertical-align: top;\n",
       "    }\n",
       "\n",
       "    .dataframe thead th {\n",
       "        text-align: right;\n",
       "    }\n",
       "</style>\n",
       "<table border=\"1\" class=\"dataframe\">\n",
       "  <thead>\n",
       "    <tr style=\"text-align: right;\">\n",
       "      <th></th>\n",
       "      <th>type</th>\n",
       "      <th>operation</th>\n",
       "      <th>t_amount</th>\n",
       "      <th>balance</th>\n",
       "      <th>k_symbol</th>\n",
       "      <th>l_amount</th>\n",
       "      <th>duration</th>\n",
       "      <th>payments</th>\n",
       "      <th>status</th>\n",
       "    </tr>\n",
       "  </thead>\n",
       "  <tbody>\n",
       "    <tr>\n",
       "      <th>0</th>\n",
       "      <td>PRIJEM</td>\n",
       "      <td>prevod</td>\n",
       "      <td>44749.0</td>\n",
       "      <td>45549.0</td>\n",
       "      <td>unknown</td>\n",
       "      <td>79608.0</td>\n",
       "      <td>24.0</td>\n",
       "      <td>3317.0</td>\n",
       "      <td>A</td>\n",
       "    </tr>\n",
       "    <tr>\n",
       "      <th>1</th>\n",
       "      <td>PRIJEM</td>\n",
       "      <td>vklad</td>\n",
       "      <td>1000.0</td>\n",
       "      <td>1000.0</td>\n",
       "      <td>unknown</td>\n",
       "      <td>52788.0</td>\n",
       "      <td>12.0</td>\n",
       "      <td>4399.0</td>\n",
       "      <td>A</td>\n",
       "    </tr>\n",
       "    <tr>\n",
       "      <th>2</th>\n",
       "      <td>PRIJEM</td>\n",
       "      <td>vklad</td>\n",
       "      <td>1100.0</td>\n",
       "      <td>1100.0</td>\n",
       "      <td>unknown</td>\n",
       "      <td>21924.0</td>\n",
       "      <td>36.0</td>\n",
       "      <td>609.0</td>\n",
       "      <td>A</td>\n",
       "    </tr>\n",
       "    <tr>\n",
       "      <th>3</th>\n",
       "      <td>PRIJEM</td>\n",
       "      <td>vklad</td>\n",
       "      <td>700.0</td>\n",
       "      <td>700.0</td>\n",
       "      <td>unknown</td>\n",
       "      <td>23052.0</td>\n",
       "      <td>12.0</td>\n",
       "      <td>1921.0</td>\n",
       "      <td>A</td>\n",
       "    </tr>\n",
       "    <tr>\n",
       "      <th>4</th>\n",
       "      <td>PRIJEM</td>\n",
       "      <td>vklad</td>\n",
       "      <td>900.0</td>\n",
       "      <td>900.0</td>\n",
       "      <td>unknown</td>\n",
       "      <td>41904.0</td>\n",
       "      <td>12.0</td>\n",
       "      <td>3492.0</td>\n",
       "      <td>A</td>\n",
       "    </tr>\n",
       "    <tr>\n",
       "      <th>...</th>\n",
       "      <td>...</td>\n",
       "      <td>...</td>\n",
       "      <td>...</td>\n",
       "      <td>...</td>\n",
       "      <td>...</td>\n",
       "      <td>...</td>\n",
       "      <td>...</td>\n",
       "      <td>...</td>\n",
       "      <td>...</td>\n",
       "    </tr>\n",
       "    <tr>\n",
       "      <th>147743</th>\n",
       "      <td>PRIJEM</td>\n",
       "      <td>unknown</td>\n",
       "      <td>67.9</td>\n",
       "      <td>17036.9</td>\n",
       "      <td>UROK</td>\n",
       "      <td>268320.0</td>\n",
       "      <td>60.0</td>\n",
       "      <td>4472.0</td>\n",
       "      <td>C</td>\n",
       "    </tr>\n",
       "    <tr>\n",
       "      <th>147744</th>\n",
       "      <td>PRIJEM</td>\n",
       "      <td>unknown</td>\n",
       "      <td>187.2</td>\n",
       "      <td>42249.6</td>\n",
       "      <td>UROK</td>\n",
       "      <td>437460.0</td>\n",
       "      <td>60.0</td>\n",
       "      <td>7291.0</td>\n",
       "      <td>C</td>\n",
       "    </tr>\n",
       "    <tr>\n",
       "      <th>147745</th>\n",
       "      <td>PRIJEM</td>\n",
       "      <td>unknown</td>\n",
       "      <td>132.0</td>\n",
       "      <td>31046.4</td>\n",
       "      <td>UROK</td>\n",
       "      <td>272520.0</td>\n",
       "      <td>60.0</td>\n",
       "      <td>4542.0</td>\n",
       "      <td>C</td>\n",
       "    </tr>\n",
       "    <tr>\n",
       "      <th>147746</th>\n",
       "      <td>PRIJEM</td>\n",
       "      <td>unknown</td>\n",
       "      <td>271.6</td>\n",
       "      <td>58694.2</td>\n",
       "      <td>UROK</td>\n",
       "      <td>380160.0</td>\n",
       "      <td>60.0</td>\n",
       "      <td>6336.0</td>\n",
       "      <td>C</td>\n",
       "    </tr>\n",
       "    <tr>\n",
       "      <th>147747</th>\n",
       "      <td>PRIJEM</td>\n",
       "      <td>unknown</td>\n",
       "      <td>190.7</td>\n",
       "      <td>45255.1</td>\n",
       "      <td>UROK</td>\n",
       "      <td>504000.0</td>\n",
       "      <td>60.0</td>\n",
       "      <td>8400.0</td>\n",
       "      <td>C</td>\n",
       "    </tr>\n",
       "  </tbody>\n",
       "</table>\n",
       "<p>147748 rows × 9 columns</p>\n",
       "</div>"
      ],
      "text/plain": [
       "          type operation  t_amount  balance k_symbol  l_amount duration  \\\n",
       "0       PRIJEM    prevod   44749.0  45549.0  unknown   79608.0     24.0   \n",
       "1       PRIJEM     vklad    1000.0   1000.0  unknown   52788.0     12.0   \n",
       "2       PRIJEM     vklad    1100.0   1100.0  unknown   21924.0     36.0   \n",
       "3       PRIJEM     vklad     700.0    700.0  unknown   23052.0     12.0   \n",
       "4       PRIJEM     vklad     900.0    900.0  unknown   41904.0     12.0   \n",
       "...        ...       ...       ...      ...      ...       ...      ...   \n",
       "147743  PRIJEM   unknown      67.9  17036.9     UROK  268320.0     60.0   \n",
       "147744  PRIJEM   unknown     187.2  42249.6     UROK  437460.0     60.0   \n",
       "147745  PRIJEM   unknown     132.0  31046.4     UROK  272520.0     60.0   \n",
       "147746  PRIJEM   unknown     271.6  58694.2     UROK  380160.0     60.0   \n",
       "147747  PRIJEM   unknown     190.7  45255.1     UROK  504000.0     60.0   \n",
       "\n",
       "        payments status  \n",
       "0         3317.0      A  \n",
       "1         4399.0      A  \n",
       "2          609.0      A  \n",
       "3         1921.0      A  \n",
       "4         3492.0      A  \n",
       "...          ...    ...  \n",
       "147743    4472.0      C  \n",
       "147744    7291.0      C  \n",
       "147745    4542.0      C  \n",
       "147746    6336.0      C  \n",
       "147747    8400.0      C  \n",
       "\n",
       "[147748 rows x 9 columns]"
      ]
     },
     "execution_count": 36,
     "metadata": {},
     "output_type": "execute_result"
    }
   ],
   "source": [
    "data"
   ]
  },
  {
   "cell_type": "code",
   "execution_count": 37,
   "id": "226f4c8d",
   "metadata": {},
   "outputs": [],
   "source": [
    "def goodbad(s):\n",
    "    if s in ['A','C']:\n",
    "        return 1 #good status\n",
    "    else:\n",
    "        return 0 #bad status\n",
    "data['status_new'] = list(map(goodbad,data['status']))\n"
   ]
  },
  {
   "cell_type": "code",
   "execution_count": 38,
   "id": "ec16a801",
   "metadata": {},
   "outputs": [
    {
     "data": {
      "text/html": [
       "<div>\n",
       "<style scoped>\n",
       "    .dataframe tbody tr th:only-of-type {\n",
       "        vertical-align: middle;\n",
       "    }\n",
       "\n",
       "    .dataframe tbody tr th {\n",
       "        vertical-align: top;\n",
       "    }\n",
       "\n",
       "    .dataframe thead th {\n",
       "        text-align: right;\n",
       "    }\n",
       "</style>\n",
       "<table border=\"1\" class=\"dataframe\">\n",
       "  <thead>\n",
       "    <tr style=\"text-align: right;\">\n",
       "      <th></th>\n",
       "      <th>type</th>\n",
       "      <th>operation</th>\n",
       "      <th>t_amount</th>\n",
       "      <th>balance</th>\n",
       "      <th>k_symbol</th>\n",
       "      <th>l_amount</th>\n",
       "      <th>duration</th>\n",
       "      <th>payments</th>\n",
       "      <th>status</th>\n",
       "      <th>status_new</th>\n",
       "    </tr>\n",
       "  </thead>\n",
       "  <tbody>\n",
       "    <tr>\n",
       "      <th>0</th>\n",
       "      <td>PRIJEM</td>\n",
       "      <td>prevod</td>\n",
       "      <td>44749.0</td>\n",
       "      <td>45549.0</td>\n",
       "      <td>unknown</td>\n",
       "      <td>79608.0</td>\n",
       "      <td>24.0</td>\n",
       "      <td>3317.0</td>\n",
       "      <td>A</td>\n",
       "      <td>1</td>\n",
       "    </tr>\n",
       "    <tr>\n",
       "      <th>1</th>\n",
       "      <td>PRIJEM</td>\n",
       "      <td>vklad</td>\n",
       "      <td>1000.0</td>\n",
       "      <td>1000.0</td>\n",
       "      <td>unknown</td>\n",
       "      <td>52788.0</td>\n",
       "      <td>12.0</td>\n",
       "      <td>4399.0</td>\n",
       "      <td>A</td>\n",
       "      <td>1</td>\n",
       "    </tr>\n",
       "    <tr>\n",
       "      <th>2</th>\n",
       "      <td>PRIJEM</td>\n",
       "      <td>vklad</td>\n",
       "      <td>1100.0</td>\n",
       "      <td>1100.0</td>\n",
       "      <td>unknown</td>\n",
       "      <td>21924.0</td>\n",
       "      <td>36.0</td>\n",
       "      <td>609.0</td>\n",
       "      <td>A</td>\n",
       "      <td>1</td>\n",
       "    </tr>\n",
       "    <tr>\n",
       "      <th>3</th>\n",
       "      <td>PRIJEM</td>\n",
       "      <td>vklad</td>\n",
       "      <td>700.0</td>\n",
       "      <td>700.0</td>\n",
       "      <td>unknown</td>\n",
       "      <td>23052.0</td>\n",
       "      <td>12.0</td>\n",
       "      <td>1921.0</td>\n",
       "      <td>A</td>\n",
       "      <td>1</td>\n",
       "    </tr>\n",
       "    <tr>\n",
       "      <th>4</th>\n",
       "      <td>PRIJEM</td>\n",
       "      <td>vklad</td>\n",
       "      <td>900.0</td>\n",
       "      <td>900.0</td>\n",
       "      <td>unknown</td>\n",
       "      <td>41904.0</td>\n",
       "      <td>12.0</td>\n",
       "      <td>3492.0</td>\n",
       "      <td>A</td>\n",
       "      <td>1</td>\n",
       "    </tr>\n",
       "  </tbody>\n",
       "</table>\n",
       "</div>"
      ],
      "text/plain": [
       "     type operation  t_amount  balance k_symbol  l_amount duration  payments  \\\n",
       "0  PRIJEM    prevod   44749.0  45549.0  unknown   79608.0     24.0    3317.0   \n",
       "1  PRIJEM     vklad    1000.0   1000.0  unknown   52788.0     12.0    4399.0   \n",
       "2  PRIJEM     vklad    1100.0   1100.0  unknown   21924.0     36.0     609.0   \n",
       "3  PRIJEM     vklad     700.0    700.0  unknown   23052.0     12.0    1921.0   \n",
       "4  PRIJEM     vklad     900.0    900.0  unknown   41904.0     12.0    3492.0   \n",
       "\n",
       "  status  status_new  \n",
       "0      A           1  \n",
       "1      A           1  \n",
       "2      A           1  \n",
       "3      A           1  \n",
       "4      A           1  "
      ]
     },
     "execution_count": 38,
     "metadata": {},
     "output_type": "execute_result"
    }
   ],
   "source": [
    "data.head()"
   ]
  },
  {
   "cell_type": "code",
   "execution_count": 39,
   "id": "904d3968",
   "metadata": {},
   "outputs": [
    {
     "data": {
      "text/plain": [
       "1    129961\n",
       "0     17787\n",
       "Name: status_new, dtype: int64"
      ]
     },
     "execution_count": 39,
     "metadata": {},
     "output_type": "execute_result"
    }
   ],
   "source": [
    "data['status_new'].value_counts()\n",
    "\n",
    "# this is an imbalanced data set -between the classes\n",
    "# majority class (good loans) 86%\n",
    "# minority class (badloans) 14%\n",
    "\n",
    "# risk of amplification of the majority class\n",
    "# model struggles to identify bad loans\n"
   ]
  },
  {
   "cell_type": "markdown",
   "id": "8ec8affd",
   "metadata": {},
   "source": [
    "### sampling techniques\n",
    "- adressing balance\n",
    "- poorly representive data\n",
    "- small data sets\n",
    "\n",
    "### oversampling: give the minority class more rows\n",
    "### undersampling: give the majority class less rows\n",
    "\n",
    "- tomek links\n",
    "- smote\n",
    "- random undersampling random oversampling"
   ]
  },
  {
   "cell_type": "code",
   "execution_count": 40,
   "id": "56ce2777",
   "metadata": {},
   "outputs": [
    {
     "name": "stderr",
     "output_type": "stream",
     "text": [
      "<ipython-input-40-001fb89197c2>:1: DeprecationWarning: `np.object` is a deprecated alias for the builtin `object`. To silence this warning, use `object` by itself. Doing this will not modify any behavior and is safe. \n",
      "Deprecated in NumPy 1.20; for more details and guidance: https://numpy.org/devdocs/release/1.20.0-notes.html#deprecations\n",
      "  cat = data.select_dtypes(include = np.object)\n"
     ]
    }
   ],
   "source": [
    "cat = data.select_dtypes(include = np.object)"
   ]
  },
  {
   "cell_type": "code",
   "execution_count": 41,
   "id": "04a642f4",
   "metadata": {},
   "outputs": [
    {
     "data": {
      "text/html": [
       "<div>\n",
       "<style scoped>\n",
       "    .dataframe tbody tr th:only-of-type {\n",
       "        vertical-align: middle;\n",
       "    }\n",
       "\n",
       "    .dataframe tbody tr th {\n",
       "        vertical-align: top;\n",
       "    }\n",
       "\n",
       "    .dataframe thead th {\n",
       "        text-align: right;\n",
       "    }\n",
       "</style>\n",
       "<table border=\"1\" class=\"dataframe\">\n",
       "  <thead>\n",
       "    <tr style=\"text-align: right;\">\n",
       "      <th></th>\n",
       "      <th>type</th>\n",
       "      <th>operation</th>\n",
       "      <th>k_symbol</th>\n",
       "      <th>duration</th>\n",
       "      <th>status</th>\n",
       "    </tr>\n",
       "  </thead>\n",
       "  <tbody>\n",
       "    <tr>\n",
       "      <th>0</th>\n",
       "      <td>PRIJEM</td>\n",
       "      <td>prevod</td>\n",
       "      <td>unknown</td>\n",
       "      <td>24.0</td>\n",
       "      <td>A</td>\n",
       "    </tr>\n",
       "    <tr>\n",
       "      <th>1</th>\n",
       "      <td>PRIJEM</td>\n",
       "      <td>vklad</td>\n",
       "      <td>unknown</td>\n",
       "      <td>12.0</td>\n",
       "      <td>A</td>\n",
       "    </tr>\n",
       "    <tr>\n",
       "      <th>2</th>\n",
       "      <td>PRIJEM</td>\n",
       "      <td>vklad</td>\n",
       "      <td>unknown</td>\n",
       "      <td>36.0</td>\n",
       "      <td>A</td>\n",
       "    </tr>\n",
       "    <tr>\n",
       "      <th>3</th>\n",
       "      <td>PRIJEM</td>\n",
       "      <td>vklad</td>\n",
       "      <td>unknown</td>\n",
       "      <td>12.0</td>\n",
       "      <td>A</td>\n",
       "    </tr>\n",
       "    <tr>\n",
       "      <th>4</th>\n",
       "      <td>PRIJEM</td>\n",
       "      <td>vklad</td>\n",
       "      <td>unknown</td>\n",
       "      <td>12.0</td>\n",
       "      <td>A</td>\n",
       "    </tr>\n",
       "    <tr>\n",
       "      <th>...</th>\n",
       "      <td>...</td>\n",
       "      <td>...</td>\n",
       "      <td>...</td>\n",
       "      <td>...</td>\n",
       "      <td>...</td>\n",
       "    </tr>\n",
       "    <tr>\n",
       "      <th>147743</th>\n",
       "      <td>PRIJEM</td>\n",
       "      <td>unknown</td>\n",
       "      <td>UROK</td>\n",
       "      <td>60.0</td>\n",
       "      <td>C</td>\n",
       "    </tr>\n",
       "    <tr>\n",
       "      <th>147744</th>\n",
       "      <td>PRIJEM</td>\n",
       "      <td>unknown</td>\n",
       "      <td>UROK</td>\n",
       "      <td>60.0</td>\n",
       "      <td>C</td>\n",
       "    </tr>\n",
       "    <tr>\n",
       "      <th>147745</th>\n",
       "      <td>PRIJEM</td>\n",
       "      <td>unknown</td>\n",
       "      <td>UROK</td>\n",
       "      <td>60.0</td>\n",
       "      <td>C</td>\n",
       "    </tr>\n",
       "    <tr>\n",
       "      <th>147746</th>\n",
       "      <td>PRIJEM</td>\n",
       "      <td>unknown</td>\n",
       "      <td>UROK</td>\n",
       "      <td>60.0</td>\n",
       "      <td>C</td>\n",
       "    </tr>\n",
       "    <tr>\n",
       "      <th>147747</th>\n",
       "      <td>PRIJEM</td>\n",
       "      <td>unknown</td>\n",
       "      <td>UROK</td>\n",
       "      <td>60.0</td>\n",
       "      <td>C</td>\n",
       "    </tr>\n",
       "  </tbody>\n",
       "</table>\n",
       "<p>147748 rows × 5 columns</p>\n",
       "</div>"
      ],
      "text/plain": [
       "          type operation k_symbol duration status\n",
       "0       PRIJEM    prevod  unknown     24.0      A\n",
       "1       PRIJEM     vklad  unknown     12.0      A\n",
       "2       PRIJEM     vklad  unknown     36.0      A\n",
       "3       PRIJEM     vklad  unknown     12.0      A\n",
       "4       PRIJEM     vklad  unknown     12.0      A\n",
       "...        ...       ...      ...      ...    ...\n",
       "147743  PRIJEM   unknown     UROK     60.0      C\n",
       "147744  PRIJEM   unknown     UROK     60.0      C\n",
       "147745  PRIJEM   unknown     UROK     60.0      C\n",
       "147746  PRIJEM   unknown     UROK     60.0      C\n",
       "147747  PRIJEM   unknown     UROK     60.0      C\n",
       "\n",
       "[147748 rows x 5 columns]"
      ]
     },
     "execution_count": 41,
     "metadata": {},
     "output_type": "execute_result"
    }
   ],
   "source": [
    "cat"
   ]
  },
  {
   "cell_type": "code",
   "execution_count": 42,
   "id": "6e72bebc",
   "metadata": {},
   "outputs": [],
   "source": [
    "cat = cat.drop(['status'], axis=1)"
   ]
  },
  {
   "cell_type": "code",
   "execution_count": 43,
   "id": "95880b36",
   "metadata": {},
   "outputs": [
    {
     "data": {
      "text/html": [
       "<div>\n",
       "<style scoped>\n",
       "    .dataframe tbody tr th:only-of-type {\n",
       "        vertical-align: middle;\n",
       "    }\n",
       "\n",
       "    .dataframe tbody tr th {\n",
       "        vertical-align: top;\n",
       "    }\n",
       "\n",
       "    .dataframe thead th {\n",
       "        text-align: right;\n",
       "    }\n",
       "</style>\n",
       "<table border=\"1\" class=\"dataframe\">\n",
       "  <thead>\n",
       "    <tr style=\"text-align: right;\">\n",
       "      <th></th>\n",
       "      <th>type</th>\n",
       "      <th>operation</th>\n",
       "      <th>k_symbol</th>\n",
       "      <th>duration</th>\n",
       "    </tr>\n",
       "  </thead>\n",
       "  <tbody>\n",
       "    <tr>\n",
       "      <th>0</th>\n",
       "      <td>PRIJEM</td>\n",
       "      <td>prevod</td>\n",
       "      <td>unknown</td>\n",
       "      <td>24.0</td>\n",
       "    </tr>\n",
       "    <tr>\n",
       "      <th>1</th>\n",
       "      <td>PRIJEM</td>\n",
       "      <td>vklad</td>\n",
       "      <td>unknown</td>\n",
       "      <td>12.0</td>\n",
       "    </tr>\n",
       "    <tr>\n",
       "      <th>2</th>\n",
       "      <td>PRIJEM</td>\n",
       "      <td>vklad</td>\n",
       "      <td>unknown</td>\n",
       "      <td>36.0</td>\n",
       "    </tr>\n",
       "    <tr>\n",
       "      <th>3</th>\n",
       "      <td>PRIJEM</td>\n",
       "      <td>vklad</td>\n",
       "      <td>unknown</td>\n",
       "      <td>12.0</td>\n",
       "    </tr>\n",
       "    <tr>\n",
       "      <th>4</th>\n",
       "      <td>PRIJEM</td>\n",
       "      <td>vklad</td>\n",
       "      <td>unknown</td>\n",
       "      <td>12.0</td>\n",
       "    </tr>\n",
       "  </tbody>\n",
       "</table>\n",
       "</div>"
      ],
      "text/plain": [
       "     type operation k_symbol duration\n",
       "0  PRIJEM    prevod  unknown     24.0\n",
       "1  PRIJEM     vklad  unknown     12.0\n",
       "2  PRIJEM     vklad  unknown     36.0\n",
       "3  PRIJEM     vklad  unknown     12.0\n",
       "4  PRIJEM     vklad  unknown     12.0"
      ]
     },
     "execution_count": 43,
     "metadata": {},
     "output_type": "execute_result"
    }
   ],
   "source": [
    "cat.head()"
   ]
  },
  {
   "cell_type": "code",
   "execution_count": 44,
   "id": "e3f8d125",
   "metadata": {},
   "outputs": [],
   "source": [
    "categorical = pd.get_dummies(cat,\n",
    "               drop_first=True,\n",
    "               columns=['type', 'operation', 'k_symbol', 'duration'])"
   ]
  },
  {
   "cell_type": "markdown",
   "id": "1aefc67f",
   "metadata": {},
   "source": [
    "## Modelling - candidate modelling 1 with Log Regression"
   ]
  },
  {
   "cell_type": "code",
   "execution_count": 58,
   "id": "967f2405",
   "metadata": {},
   "outputs": [
    {
     "data": {
      "text/html": [
       "<div>\n",
       "<style scoped>\n",
       "    .dataframe tbody tr th:only-of-type {\n",
       "        vertical-align: middle;\n",
       "    }\n",
       "\n",
       "    .dataframe tbody tr th {\n",
       "        vertical-align: top;\n",
       "    }\n",
       "\n",
       "    .dataframe thead th {\n",
       "        text-align: right;\n",
       "    }\n",
       "</style>\n",
       "<table border=\"1\" class=\"dataframe\">\n",
       "  <thead>\n",
       "    <tr style=\"text-align: right;\">\n",
       "      <th></th>\n",
       "      <th>t_amount</th>\n",
       "      <th>balance</th>\n",
       "      <th>l_amount</th>\n",
       "      <th>payments</th>\n",
       "    </tr>\n",
       "  </thead>\n",
       "  <tbody>\n",
       "    <tr>\n",
       "      <th>0</th>\n",
       "      <td>0.438261</td>\n",
       "      <td>0.446096</td>\n",
       "      <td>0.779661</td>\n",
       "      <td>0.032486</td>\n",
       "    </tr>\n",
       "    <tr>\n",
       "      <th>1</th>\n",
       "      <td>0.018872</td>\n",
       "      <td>0.018872</td>\n",
       "      <td>0.996191</td>\n",
       "      <td>0.083016</td>\n",
       "    </tr>\n",
       "    <tr>\n",
       "      <th>2</th>\n",
       "      <td>0.050028</td>\n",
       "      <td>0.050028</td>\n",
       "      <td>0.997109</td>\n",
       "      <td>0.027697</td>\n",
       "    </tr>\n",
       "    <tr>\n",
       "      <th>3</th>\n",
       "      <td>0.030234</td>\n",
       "      <td>0.030234</td>\n",
       "      <td>0.995634</td>\n",
       "      <td>0.082970</td>\n",
       "    </tr>\n",
       "    <tr>\n",
       "      <th>4</th>\n",
       "      <td>0.021394</td>\n",
       "      <td>0.021394</td>\n",
       "      <td>0.996090</td>\n",
       "      <td>0.083007</td>\n",
       "    </tr>\n",
       "  </tbody>\n",
       "</table>\n",
       "</div>"
      ],
      "text/plain": [
       "   t_amount   balance  l_amount  payments\n",
       "0  0.438261  0.446096  0.779661  0.032486\n",
       "1  0.018872  0.018872  0.996191  0.083016\n",
       "2  0.050028  0.050028  0.997109  0.027697\n",
       "3  0.030234  0.030234  0.995634  0.082970\n",
       "4  0.021394  0.021394  0.996090  0.083007"
      ]
     },
     "execution_count": 58,
     "metadata": {},
     "output_type": "execute_result"
    }
   ],
   "source": [
    "x.head()"
   ]
  },
  {
   "cell_type": "code",
   "execution_count": 59,
   "id": "7a17fe7a",
   "metadata": {},
   "outputs": [
    {
     "data": {
      "text/html": [
       "<div>\n",
       "<style scoped>\n",
       "    .dataframe tbody tr th:only-of-type {\n",
       "        vertical-align: middle;\n",
       "    }\n",
       "\n",
       "    .dataframe tbody tr th {\n",
       "        vertical-align: top;\n",
       "    }\n",
       "\n",
       "    .dataframe thead th {\n",
       "        text-align: right;\n",
       "    }\n",
       "</style>\n",
       "<table border=\"1\" class=\"dataframe\">\n",
       "  <thead>\n",
       "    <tr style=\"text-align: right;\">\n",
       "      <th></th>\n",
       "      <th>type_VYBER</th>\n",
       "      <th>type_VYDAJ</th>\n",
       "      <th>operation_unknown</th>\n",
       "      <th>operation_vklad</th>\n",
       "      <th>operation_vyber</th>\n",
       "      <th>k_symbol_SIPO</th>\n",
       "      <th>k_symbol_SLUZBY</th>\n",
       "      <th>k_symbol_UROK</th>\n",
       "      <th>k_symbol_unknown</th>\n",
       "      <th>duration_24.0</th>\n",
       "      <th>duration_36.0</th>\n",
       "      <th>duration_48.0</th>\n",
       "      <th>duration_60.0</th>\n",
       "    </tr>\n",
       "  </thead>\n",
       "  <tbody>\n",
       "    <tr>\n",
       "      <th>0</th>\n",
       "      <td>0</td>\n",
       "      <td>0</td>\n",
       "      <td>0</td>\n",
       "      <td>0</td>\n",
       "      <td>0</td>\n",
       "      <td>0</td>\n",
       "      <td>0</td>\n",
       "      <td>0</td>\n",
       "      <td>1</td>\n",
       "      <td>1</td>\n",
       "      <td>0</td>\n",
       "      <td>0</td>\n",
       "      <td>0</td>\n",
       "    </tr>\n",
       "    <tr>\n",
       "      <th>1</th>\n",
       "      <td>0</td>\n",
       "      <td>0</td>\n",
       "      <td>0</td>\n",
       "      <td>1</td>\n",
       "      <td>0</td>\n",
       "      <td>0</td>\n",
       "      <td>0</td>\n",
       "      <td>0</td>\n",
       "      <td>1</td>\n",
       "      <td>0</td>\n",
       "      <td>0</td>\n",
       "      <td>0</td>\n",
       "      <td>0</td>\n",
       "    </tr>\n",
       "    <tr>\n",
       "      <th>2</th>\n",
       "      <td>0</td>\n",
       "      <td>0</td>\n",
       "      <td>0</td>\n",
       "      <td>1</td>\n",
       "      <td>0</td>\n",
       "      <td>0</td>\n",
       "      <td>0</td>\n",
       "      <td>0</td>\n",
       "      <td>1</td>\n",
       "      <td>0</td>\n",
       "      <td>1</td>\n",
       "      <td>0</td>\n",
       "      <td>0</td>\n",
       "    </tr>\n",
       "    <tr>\n",
       "      <th>3</th>\n",
       "      <td>0</td>\n",
       "      <td>0</td>\n",
       "      <td>0</td>\n",
       "      <td>1</td>\n",
       "      <td>0</td>\n",
       "      <td>0</td>\n",
       "      <td>0</td>\n",
       "      <td>0</td>\n",
       "      <td>1</td>\n",
       "      <td>0</td>\n",
       "      <td>0</td>\n",
       "      <td>0</td>\n",
       "      <td>0</td>\n",
       "    </tr>\n",
       "    <tr>\n",
       "      <th>4</th>\n",
       "      <td>0</td>\n",
       "      <td>0</td>\n",
       "      <td>0</td>\n",
       "      <td>1</td>\n",
       "      <td>0</td>\n",
       "      <td>0</td>\n",
       "      <td>0</td>\n",
       "      <td>0</td>\n",
       "      <td>1</td>\n",
       "      <td>0</td>\n",
       "      <td>0</td>\n",
       "      <td>0</td>\n",
       "      <td>0</td>\n",
       "    </tr>\n",
       "  </tbody>\n",
       "</table>\n",
       "</div>"
      ],
      "text/plain": [
       "   type_VYBER  type_VYDAJ  operation_unknown  operation_vklad  \\\n",
       "0           0           0                  0                0   \n",
       "1           0           0                  0                1   \n",
       "2           0           0                  0                1   \n",
       "3           0           0                  0                1   \n",
       "4           0           0                  0                1   \n",
       "\n",
       "   operation_vyber  k_symbol_SIPO  k_symbol_SLUZBY  k_symbol_UROK  \\\n",
       "0                0              0                0              0   \n",
       "1                0              0                0              0   \n",
       "2                0              0                0              0   \n",
       "3                0              0                0              0   \n",
       "4                0              0                0              0   \n",
       "\n",
       "   k_symbol_unknown  duration_24.0  duration_36.0  duration_48.0  \\\n",
       "0                 1              1              0              0   \n",
       "1                 1              0              0              0   \n",
       "2                 1              0              1              0   \n",
       "3                 1              0              0              0   \n",
       "4                 1              0              0              0   \n",
       "\n",
       "   duration_60.0  \n",
       "0              0  \n",
       "1              0  \n",
       "2              0  \n",
       "3              0  \n",
       "4              0  "
      ]
     },
     "execution_count": 59,
     "metadata": {},
     "output_type": "execute_result"
    }
   ],
   "source": [
    "categorical.head()"
   ]
  },
  {
   "cell_type": "code",
   "execution_count": 60,
   "id": "c29bc98f",
   "metadata": {},
   "outputs": [],
   "source": [
    "y = data['status_new']"
   ]
  },
  {
   "cell_type": "code",
   "execution_count": 62,
   "id": "81d2adbb",
   "metadata": {},
   "outputs": [
    {
     "data": {
      "text/plain": [
       "0         1\n",
       "1         1\n",
       "2         1\n",
       "3         1\n",
       "4         1\n",
       "         ..\n",
       "147743    1\n",
       "147744    1\n",
       "147745    1\n",
       "147746    1\n",
       "147747    1\n",
       "Name: status_new, Length: 147748, dtype: int64"
      ]
     },
     "execution_count": 62,
     "metadata": {},
     "output_type": "execute_result"
    }
   ],
   "source": [
    "y"
   ]
  },
  {
   "cell_type": "code",
   "execution_count": 55,
   "id": "974087c5",
   "metadata": {},
   "outputs": [
    {
     "data": {
      "text/plain": [
       "(147748, 147748, 147748, 147748)"
      ]
     },
     "execution_count": 55,
     "metadata": {},
     "output_type": "execute_result"
    }
   ],
   "source": [
    "#check the number of rows are the same \n",
    "len(x), len(y), len(data), len(categorical)"
   ]
  },
  {
   "cell_type": "markdown",
   "id": "d784a467",
   "metadata": {},
   "source": [
    "next steps\n",
    "- concatenate the numericals, categoricals together \n",
    "- split the data into train and test \n",
    "- import and train the model logistic regression (using X train, y train)\n",
    "- test the model using Xtest and compare the results to ytest \n",
    "- evaluate the model using the confusion matrix and AUC \n"
   ]
  },
  {
   "cell_type": "code",
   "execution_count": 56,
   "id": "0b56f0b4",
   "metadata": {},
   "outputs": [],
   "source": [
    "X_full= pd.concat([x,categorical], axis=1)"
   ]
  },
  {
   "cell_type": "code",
   "execution_count": 57,
   "id": "23f2a96e",
   "metadata": {},
   "outputs": [
    {
     "data": {
      "text/html": [
       "<div>\n",
       "<style scoped>\n",
       "    .dataframe tbody tr th:only-of-type {\n",
       "        vertical-align: middle;\n",
       "    }\n",
       "\n",
       "    .dataframe tbody tr th {\n",
       "        vertical-align: top;\n",
       "    }\n",
       "\n",
       "    .dataframe thead th {\n",
       "        text-align: right;\n",
       "    }\n",
       "</style>\n",
       "<table border=\"1\" class=\"dataframe\">\n",
       "  <thead>\n",
       "    <tr style=\"text-align: right;\">\n",
       "      <th></th>\n",
       "      <th>t_amount</th>\n",
       "      <th>balance</th>\n",
       "      <th>l_amount</th>\n",
       "      <th>payments</th>\n",
       "      <th>type_VYBER</th>\n",
       "      <th>type_VYDAJ</th>\n",
       "      <th>operation_unknown</th>\n",
       "      <th>operation_vklad</th>\n",
       "      <th>operation_vyber</th>\n",
       "      <th>k_symbol_SIPO</th>\n",
       "      <th>k_symbol_SLUZBY</th>\n",
       "      <th>k_symbol_UROK</th>\n",
       "      <th>k_symbol_unknown</th>\n",
       "      <th>duration_24.0</th>\n",
       "      <th>duration_36.0</th>\n",
       "      <th>duration_48.0</th>\n",
       "      <th>duration_60.0</th>\n",
       "    </tr>\n",
       "  </thead>\n",
       "  <tbody>\n",
       "    <tr>\n",
       "      <th>0</th>\n",
       "      <td>0.438261</td>\n",
       "      <td>0.446096</td>\n",
       "      <td>0.779661</td>\n",
       "      <td>0.032486</td>\n",
       "      <td>0</td>\n",
       "      <td>0</td>\n",
       "      <td>0</td>\n",
       "      <td>0</td>\n",
       "      <td>0</td>\n",
       "      <td>0</td>\n",
       "      <td>0</td>\n",
       "      <td>0</td>\n",
       "      <td>1</td>\n",
       "      <td>1</td>\n",
       "      <td>0</td>\n",
       "      <td>0</td>\n",
       "      <td>0</td>\n",
       "    </tr>\n",
       "    <tr>\n",
       "      <th>1</th>\n",
       "      <td>0.018872</td>\n",
       "      <td>0.018872</td>\n",
       "      <td>0.996191</td>\n",
       "      <td>0.083016</td>\n",
       "      <td>0</td>\n",
       "      <td>0</td>\n",
       "      <td>0</td>\n",
       "      <td>1</td>\n",
       "      <td>0</td>\n",
       "      <td>0</td>\n",
       "      <td>0</td>\n",
       "      <td>0</td>\n",
       "      <td>1</td>\n",
       "      <td>0</td>\n",
       "      <td>0</td>\n",
       "      <td>0</td>\n",
       "      <td>0</td>\n",
       "    </tr>\n",
       "    <tr>\n",
       "      <th>2</th>\n",
       "      <td>0.050028</td>\n",
       "      <td>0.050028</td>\n",
       "      <td>0.997109</td>\n",
       "      <td>0.027697</td>\n",
       "      <td>0</td>\n",
       "      <td>0</td>\n",
       "      <td>0</td>\n",
       "      <td>1</td>\n",
       "      <td>0</td>\n",
       "      <td>0</td>\n",
       "      <td>0</td>\n",
       "      <td>0</td>\n",
       "      <td>1</td>\n",
       "      <td>0</td>\n",
       "      <td>1</td>\n",
       "      <td>0</td>\n",
       "      <td>0</td>\n",
       "    </tr>\n",
       "    <tr>\n",
       "      <th>3</th>\n",
       "      <td>0.030234</td>\n",
       "      <td>0.030234</td>\n",
       "      <td>0.995634</td>\n",
       "      <td>0.082970</td>\n",
       "      <td>0</td>\n",
       "      <td>0</td>\n",
       "      <td>0</td>\n",
       "      <td>1</td>\n",
       "      <td>0</td>\n",
       "      <td>0</td>\n",
       "      <td>0</td>\n",
       "      <td>0</td>\n",
       "      <td>1</td>\n",
       "      <td>0</td>\n",
       "      <td>0</td>\n",
       "      <td>0</td>\n",
       "      <td>0</td>\n",
       "    </tr>\n",
       "    <tr>\n",
       "      <th>4</th>\n",
       "      <td>0.021394</td>\n",
       "      <td>0.021394</td>\n",
       "      <td>0.996090</td>\n",
       "      <td>0.083007</td>\n",
       "      <td>0</td>\n",
       "      <td>0</td>\n",
       "      <td>0</td>\n",
       "      <td>1</td>\n",
       "      <td>0</td>\n",
       "      <td>0</td>\n",
       "      <td>0</td>\n",
       "      <td>0</td>\n",
       "      <td>1</td>\n",
       "      <td>0</td>\n",
       "      <td>0</td>\n",
       "      <td>0</td>\n",
       "      <td>0</td>\n",
       "    </tr>\n",
       "  </tbody>\n",
       "</table>\n",
       "</div>"
      ],
      "text/plain": [
       "   t_amount   balance  l_amount  payments  type_VYBER  type_VYDAJ  \\\n",
       "0  0.438261  0.446096  0.779661  0.032486           0           0   \n",
       "1  0.018872  0.018872  0.996191  0.083016           0           0   \n",
       "2  0.050028  0.050028  0.997109  0.027697           0           0   \n",
       "3  0.030234  0.030234  0.995634  0.082970           0           0   \n",
       "4  0.021394  0.021394  0.996090  0.083007           0           0   \n",
       "\n",
       "   operation_unknown  operation_vklad  operation_vyber  k_symbol_SIPO  \\\n",
       "0                  0                0                0              0   \n",
       "1                  0                1                0              0   \n",
       "2                  0                1                0              0   \n",
       "3                  0                1                0              0   \n",
       "4                  0                1                0              0   \n",
       "\n",
       "   k_symbol_SLUZBY  k_symbol_UROK  k_symbol_unknown  duration_24.0  \\\n",
       "0                0              0                 1              1   \n",
       "1                0              0                 1              0   \n",
       "2                0              0                 1              0   \n",
       "3                0              0                 1              0   \n",
       "4                0              0                 1              0   \n",
       "\n",
       "   duration_36.0  duration_48.0  duration_60.0  \n",
       "0              0              0              0  \n",
       "1              0              0              0  \n",
       "2              1              0              0  \n",
       "3              0              0              0  \n",
       "4              0              0              0  "
      ]
     },
     "execution_count": 57,
     "metadata": {},
     "output_type": "execute_result"
    }
   ],
   "source": [
    "X_full.head()"
   ]
  },
  {
   "cell_type": "code",
   "execution_count": 82,
   "id": "3fde266d",
   "metadata": {},
   "outputs": [],
   "source": [
    "from sklearn.linear_model import LogisticRegression # model\n",
    "from sklearn.model_selection import train_test_split # tt\n",
    "from sklearn.metrics import confusion_matrix, plot_confusion_matrix # evaluation\n",
    "from sklearn.metrics import classification_report # evaluation\n",
    "from sklearn.metrics import accuracy_score # evaluation"
   ]
  },
  {
   "cell_type": "code",
   "execution_count": 75,
   "id": "7ecf772b",
   "metadata": {},
   "outputs": [],
   "source": [
    "# define the model (logistic regression)\n",
    "\n",
    "lr = LogisticRegression(max_iter=400)"
   ]
  },
  {
   "cell_type": "code",
   "execution_count": 76,
   "id": "b291b30c",
   "metadata": {},
   "outputs": [],
   "source": [
    "# seed\n",
    "X_train, X_test, y_train, y_test = train_test_split(X_full,y, test_size=0.3, random_state=40)"
   ]
  },
  {
   "cell_type": "code",
   "execution_count": 77,
   "id": "b293b4ce",
   "metadata": {},
   "outputs": [
    {
     "data": {
      "text/plain": [
       "LogisticRegression(max_iter=400)"
      ]
     },
     "execution_count": 77,
     "metadata": {},
     "output_type": "execute_result"
    }
   ],
   "source": [
    "# fit the model to our training data set\n",
    "\n",
    "lr.fit(X_train, y_train)"
   ]
  },
  {
   "cell_type": "markdown",
   "id": "13a6949e",
   "metadata": {},
   "source": [
    "### Evaluating modeling 1 "
   ]
  },
  {
   "cell_type": "code",
   "execution_count": 78,
   "id": "93c45ca4",
   "metadata": {},
   "outputs": [],
   "source": [
    "y_pred=lr.predict(X_test)\n",
    "# for our test data make some predictions of y (using trained model)"
   ]
  },
  {
   "cell_type": "code",
   "execution_count": 79,
   "id": "ae228932",
   "metadata": {},
   "outputs": [
    {
     "data": {
      "text/plain": [
       "0.8823011844331641"
      ]
     },
     "execution_count": 79,
     "metadata": {},
     "output_type": "execute_result"
    }
   ],
   "source": [
    "accuracy_score(y_test,y_pred)\n",
    "# comparing each actual 'y' to each prediction 'y' for the test data set"
   ]
  },
  {
   "cell_type": "code",
   "execution_count": 80,
   "id": "6e26087e",
   "metadata": {},
   "outputs": [
    {
     "data": {
      "text/plain": [
       "array([[  210,  5121],\n",
       "       [   96, 38898]])"
      ]
     },
     "execution_count": 80,
     "metadata": {},
     "output_type": "execute_result"
    }
   ],
   "source": [
    "# we were right 88% of the time in classifying our status\n",
    "\n",
    "confusion_matrix(y_test, y_pred)"
   ]
  },
  {
   "cell_type": "code",
   "execution_count": 84,
   "id": "fdd5941d",
   "metadata": {},
   "outputs": [],
   "source": [
    "from sklearn.metrics import plot_confusion_matrix"
   ]
  },
  {
   "cell_type": "code",
   "execution_count": 85,
   "id": "bc825158",
   "metadata": {},
   "outputs": [
    {
     "data": {
      "text/plain": [
       "<sklearn.metrics._plot.confusion_matrix.ConfusionMatrixDisplay at 0x7f97be587490>"
      ]
     },
     "execution_count": 85,
     "metadata": {},
     "output_type": "execute_result"
    },
    {
     "data": {
      "image/png": "[encoded data removed]",
      "text/plain": [
       "<Figure size 432x288 with 2 Axes>"
      ]
     },
     "metadata": {
      "needs_background": "light"
     },
     "output_type": "display_data"
    }
   ],
   "source": [
    "plot_confusion_matrix(lr, X_test, y_test)"
   ]
  },
  {
   "cell_type": "code",
   "execution_count": 94,
   "id": "d789359b",
   "metadata": {},
   "outputs": [
    {
     "data": {
      "image/png": "[encoded data removed]",
      "text/plain": [
       "<Figure size 432x288 with 1 Axes>"
      ]
     },
     "metadata": {
      "needs_background": "light"
     },
     "output_type": "display_data"
    }
   ],
   "source": [
    "import sklearn.metrics as metrics\n",
    "y_pred_proba = lr.predict_proba(X_test)[::,1]\n",
    "fpr, tpr, _ = metrics.roc_curve(y_test,  y_pred_proba)\n",
    "auc = metrics.roc_auc_score(y_test, y_pred_proba)\n",
    "plt.plot(fpr,tpr,label='data 1, auc='+str(auc))\n",
    "plt.legend(loc=4)\n",
    "plt.show()"
   ]
  },
  {
   "cell_type": "markdown",
   "id": "62f03033",
   "metadata": {},
   "source": [
    "## Appendix"
   ]
  },
  {
   "cell_type": "markdown",
   "id": "21495501",
   "metadata": {},
   "source": [
    "### Explanation for dummie variables"
   ]
  },
  {
   "cell_type": "code",
   "execution_count": 51,
   "id": "7b3e52a2",
   "metadata": {},
   "outputs": [],
   "source": [
    "import random\n",
    "gender_lst = ['M', 'F']"
   ]
  },
  {
   "cell_type": "code",
   "execution_count": 52,
   "id": "2a7fe739",
   "metadata": {},
   "outputs": [],
   "source": [
    "df_example = pd.DataFrame({'gender':[random.choice(gender_lst) for i in range(20)]})"
   ]
  },
  {
   "cell_type": "code",
   "execution_count": 53,
   "id": "622a13b2",
   "metadata": {},
   "outputs": [
    {
     "data": {
      "text/html": [
       "<div>\n",
       "<style scoped>\n",
       "    .dataframe tbody tr th:only-of-type {\n",
       "        vertical-align: middle;\n",
       "    }\n",
       "\n",
       "    .dataframe tbody tr th {\n",
       "        vertical-align: top;\n",
       "    }\n",
       "\n",
       "    .dataframe thead th {\n",
       "        text-align: right;\n",
       "    }\n",
       "</style>\n",
       "<table border=\"1\" class=\"dataframe\">\n",
       "  <thead>\n",
       "    <tr style=\"text-align: right;\">\n",
       "      <th></th>\n",
       "      <th>gender_M</th>\n",
       "    </tr>\n",
       "  </thead>\n",
       "  <tbody>\n",
       "    <tr>\n",
       "      <th>0</th>\n",
       "      <td>0</td>\n",
       "    </tr>\n",
       "    <tr>\n",
       "      <th>1</th>\n",
       "      <td>1</td>\n",
       "    </tr>\n",
       "    <tr>\n",
       "      <th>2</th>\n",
       "      <td>1</td>\n",
       "    </tr>\n",
       "    <tr>\n",
       "      <th>3</th>\n",
       "      <td>0</td>\n",
       "    </tr>\n",
       "    <tr>\n",
       "      <th>4</th>\n",
       "      <td>1</td>\n",
       "    </tr>\n",
       "    <tr>\n",
       "      <th>5</th>\n",
       "      <td>0</td>\n",
       "    </tr>\n",
       "    <tr>\n",
       "      <th>6</th>\n",
       "      <td>0</td>\n",
       "    </tr>\n",
       "    <tr>\n",
       "      <th>7</th>\n",
       "      <td>0</td>\n",
       "    </tr>\n",
       "    <tr>\n",
       "      <th>8</th>\n",
       "      <td>1</td>\n",
       "    </tr>\n",
       "    <tr>\n",
       "      <th>9</th>\n",
       "      <td>1</td>\n",
       "    </tr>\n",
       "    <tr>\n",
       "      <th>10</th>\n",
       "      <td>0</td>\n",
       "    </tr>\n",
       "    <tr>\n",
       "      <th>11</th>\n",
       "      <td>0</td>\n",
       "    </tr>\n",
       "    <tr>\n",
       "      <th>12</th>\n",
       "      <td>1</td>\n",
       "    </tr>\n",
       "    <tr>\n",
       "      <th>13</th>\n",
       "      <td>1</td>\n",
       "    </tr>\n",
       "    <tr>\n",
       "      <th>14</th>\n",
       "      <td>1</td>\n",
       "    </tr>\n",
       "    <tr>\n",
       "      <th>15</th>\n",
       "      <td>1</td>\n",
       "    </tr>\n",
       "    <tr>\n",
       "      <th>16</th>\n",
       "      <td>0</td>\n",
       "    </tr>\n",
       "    <tr>\n",
       "      <th>17</th>\n",
       "      <td>0</td>\n",
       "    </tr>\n",
       "    <tr>\n",
       "      <th>18</th>\n",
       "      <td>1</td>\n",
       "    </tr>\n",
       "    <tr>\n",
       "      <th>19</th>\n",
       "      <td>0</td>\n",
       "    </tr>\n",
       "  </tbody>\n",
       "</table>\n",
       "</div>"
      ],
      "text/plain": [
       "    gender_M\n",
       "0          0\n",
       "1          1\n",
       "2          1\n",
       "3          0\n",
       "4          1\n",
       "5          0\n",
       "6          0\n",
       "7          0\n",
       "8          1\n",
       "9          1\n",
       "10         0\n",
       "11         0\n",
       "12         1\n",
       "13         1\n",
       "14         1\n",
       "15         1\n",
       "16         0\n",
       "17         0\n",
       "18         1\n",
       "19         0"
      ]
     },
     "execution_count": 53,
     "metadata": {},
     "output_type": "execute_result"
    }
   ],
   "source": [
    "pd.get_dummies(df_example, columns=['gender'], drop_first=True)"
   ]
  },
  {
   "cell_type": "markdown",
   "id": "63d8124f",
   "metadata": {},
   "source": [
    "Recall the meaning of A, B, C, D\n",
    "\n",
    "* **A**: contract finished, no problems (we have a lot of them)\n",
    "* **B**: contract finished, loan not payed\n",
    "* **C**: running contract, OK so far (we have a lot of them)\n",
    "* **D**: running contract, client in debt"
   ]
  },
  {
   "cell_type": "code",
   "execution_count": null,
   "id": "d75e6a8a",
   "metadata": {},
   "outputs": [],
   "source": []
  }
 ],
 "metadata": {
  "kernelspec": {
   "display_name": "Python 3",
   "language": "python",
   "name": "python3"
  },
  "language_info": {
   "codemirror_mode": {
    "name": "ipython",
    "version": 3
   },
   "file_extension": ".py",
   "mimetype": "text/x-python",
   "name": "python",
   "nbconvert_exporter": "python",
   "pygments_lexer": "ipython3",
   "version": "3.8.8"
  },
  "toc": {
   "base_numbering": 1,
   "nav_menu": {},
   "number_sections": true,
   "sideBar": true,
   "skip_h1_title": false,
   "title_cell": "Table of Contents",
   "title_sidebar": "Contents",
   "toc_cell": false,
   "toc_position": {},
   "toc_section_display": true,
   "toc_window_display": false
  }
 },
 "nbformat": 4,
 "nbformat_minor": 5
}
